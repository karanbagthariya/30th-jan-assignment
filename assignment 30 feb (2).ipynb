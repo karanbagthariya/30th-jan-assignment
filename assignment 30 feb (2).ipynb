{
 "cells": [
  {
   "cell_type": "markdown",
   "id": "adbb0638-447e-456d-a78a-4e7d0ecc5de8",
   "metadata": {
    "tags": []
   },
   "source": [
    "1. write a program to accept percentage from the user and display the grade according to the criateria."
   ]
  },
  {
   "cell_type": "code",
   "execution_count": 2,
   "id": "3c7dd62d-1528-42dd-9be2-4747d35d1217",
   "metadata": {},
   "outputs": [
    {
     "name": "stdin",
     "output_type": "stream",
     "text": [
      "enter your percentage 90\n"
     ]
    },
    {
     "name": "stdout",
     "output_type": "stream",
     "text": [
      "A grade\n"
     ]
    }
   ],
   "source": [
    "\n",
    "percentage = int(input('enter your percentage'))\n",
    "if percentage >=90:\n",
    "    print('A grade')\n",
    "elif percentage >= 80 and percentage< 90:\n",
    "    print('B grade')\n",
    "elif percentage >=60 and percentage < 80: \n",
    "    print('C grade')\n",
    "else:\n",
    "    print('D grade')"
   ]
  },
  {
   "cell_type": "markdown",
   "id": "449f8b7a-7c4d-4658-a535-a258dbe93823",
   "metadata": {},
   "source": [
    "2. write a program to accept price of bike from the user and display the road tax to be paid according to the criateria."
   ]
  },
  {
   "cell_type": "code",
   "execution_count": 40,
   "id": "d5248284-ae29-4b45-bc8b-d97246f72fa1",
   "metadata": {},
   "outputs": [
    {
     "name": "stdin",
     "output_type": "stream",
     "text": [
      "enter the price of bike 150000\n"
     ]
    },
    {
     "name": "stdout",
     "output_type": "stream",
     "text": [
      "Road tax is 15%\n"
     ]
    }
   ],
   "source": [
    "price_of_bike = int(input('enter the price of bike'))\n",
    "if price_of_bike >100000:\n",
    "    print('Road tax is 15%')\n",
    "elif price_of_bike >=50000 and price_of_bike <100000:\n",
    "    print('Road tax is 10%')\n",
    "else:\n",
    "    print('Road tax is 5%')"
   ]
  },
  {
   "cell_type": "markdown",
   "id": "5a354b29-732e-4092-a92b-031e6b0ce643",
   "metadata": {},
   "source": [
    "3.accept any city from the user and display monument of that city."
   ]
  },
  {
   "cell_type": "code",
   "execution_count": 2,
   "id": "f3b54835-d947-48ae-8e4f-a22056ca7d2b",
   "metadata": {},
   "outputs": [
    {
     "name": "stdin",
     "output_type": "stream",
     "text": [
      "enter your city name agra\n"
     ]
    },
    {
     "name": "stdout",
     "output_type": "stream",
     "text": [
      "taj mahel\n"
     ]
    }
   ],
   "source": [
    "city=input('enter your city name')\n",
    "if city =='delhi':\n",
    "    print('Red fort')\n",
    "elif city == 'agra':\n",
    "    print('taj mahel')\n",
    "elif city== 'jaipur':\n",
    "    print ('jal mahel')"
   ]
  },
  {
   "cell_type": "markdown",
   "id": "3ea568d8-2fd2-4b25-b0d5-c2c7cfcb01e5",
   "metadata": {},
   "source": [
    "5.when and why to use while loop in python?\n",
    "Python while loop is used to run a block code until a certain condition is met. Here, A while loop evaluates the condition. If the condition evaluates to True , the code inside the while loop is executed.\n",
    "A \"While\" Loop is used to repeat a specific block of code an unknown number of times, until a condition is met. For example, if we want to ask a user for a number between 1 and 10, we don't know how many times the user may enter a larger number, so we keep asking \"while the number is not between 1 and 10\"."
   ]
  },
  {
   "cell_type": "markdown",
   "id": "87c2036f-9e93-448d-91a2-0c5dcd65b9c0",
   "metadata": {},
   "source": [
    "8.reverse a while loop to display number 10 to 1\n"
   ]
  },
  {
   "cell_type": "code",
   "execution_count": 5,
   "id": "b59c1825-26e2-458a-85ca-373bc121fb6d",
   "metadata": {},
   "outputs": [
    {
     "name": "stdout",
     "output_type": "stream",
     "text": [
      "10987654321\n"
     ]
    }
   ],
   "source": [
    "n = int(str(12345678901))\n",
    "reverse = 0\n",
    "while n!=0:\n",
    "\t\tr=int(n%10)\n",
    "\t\treverse = reverse*10 + r\n",
    "\t\tn=int(n/10)\n",
    "print(reverse)"
   ]
  },
  {
   "cell_type": "markdown",
   "id": "5a22bcb6-9343-4943-a773-8e35ff7dde79",
   "metadata": {},
   "source": [
    "6.Use nested while loop to print 3 different pattern"
   ]
  },
  {
   "cell_type": "code",
   "execution_count": null,
   "id": "a3ad95da-2c94-499f-bdc5-ba78e487cddc",
   "metadata": {},
   "outputs": [],
   "source": [
    "i=1\n",
    "while i<=5:\n",
    "    j=0\n",
    "while j<=i:\n",
    "    print(j)\n",
    "    j=j+1\n",
    "print(j)\n",
    "i=i+1"
   ]
  },
  {
   "cell_type": "markdown",
   "id": "93eba3e9-59d4-4792-9856-25a3d8fe84ce",
   "metadata": {},
   "source": [
    "4. Check how many times a given number can be divided by 3 before it is less than or equal to 10. \n"
   ]
  },
  {
   "cell_type": "code",
   "execution_count": 1,
   "id": "41aff830-c355-4f43-a605-7ac41b28bb3a",
   "metadata": {},
   "outputs": [
    {
     "name": "stdout",
     "output_type": "stream",
     "text": [
      "Yes\n"
     ]
    }
   ],
   "source": [
    "n=769452\n",
    "if int(n)%3==0:\n",
    "    print(\"Yes\")\n",
    "else:\n",
    "    print(\"No\")"
   ]
  },
  {
   "cell_type": "code",
   "execution_count": null,
   "id": "43fd35dd-0241-4d6e-a26c-06ff48ea3c57",
   "metadata": {},
   "outputs": [],
   "source": []
  }
 ],
 "metadata": {
  "kernelspec": {
   "display_name": "Python 3 (ipykernel)",
   "language": "python",
   "name": "python3"
  },
  "language_info": {
   "codemirror_mode": {
    "name": "ipython",
    "version": 3
   },
   "file_extension": ".py",
   "mimetype": "text/x-python",
   "name": "python",
   "nbconvert_exporter": "python",
   "pygments_lexer": "ipython3",
   "version": "3.10.8"
  }
 },
 "nbformat": 4,
 "nbformat_minor": 5
}
